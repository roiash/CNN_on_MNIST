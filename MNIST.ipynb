{
 "cells": [
  {
   "cell_type": "code",
   "execution_count": 1,
   "id": "030bcdce-1b8f-4f8e-9ad4-328b8e5feaaa",
   "metadata": {},
   "outputs": [],
   "source": [
    "import pathlib\n",
    "import time\n",
    "import json\n",
    "\n",
    "import ipywidgets\n",
    "import matplotlib.pyplot as plt\n",
    "import numpy as np\n",
    "import polars as pl\n",
    "import seaborn as sns\n",
    "import pandas as pd\n",
    "from sklearn.metrics.pairwise import cosine_similarity\n",
    "from sklearn.metrics.pairwise import euclidean_distances\n",
    "from sklearn.model_selection import train_test_split\n",
    "import torch\n",
    "import torch.nn as nn\n",
    "import torch.optim as optim\n",
    "from torch.utils.data import DataLoader, Dataset\n",
    "from tqdm.auto import tqdm\n",
    "import itertools"
   ]
  },
  {
   "cell_type": "code",
   "execution_count": 2,
   "id": "6520818b-7c33-4a2d-8e5b-53bc55ea906d",
   "metadata": {},
   "outputs": [],
   "source": [
    "train_data_filepath = pathlib.Path('data/fashion-mnist_train.csv') \n",
    "test_data_filepath = pathlib.Path('data/fashion-mnist_test.csv')\n"
   ]
  },
  {
   "cell_type": "code",
   "execution_count": 3,
   "id": "f33f1820-9156-408f-8646-519a3d5fba24",
   "metadata": {},
   "outputs": [
    {
     "data": {
      "text/plain": [
       "<torch._C.Generator at 0x7dfb73955450>"
      ]
     },
     "execution_count": 3,
     "metadata": {},
     "output_type": "execute_result"
    }
   ],
   "source": [
    "torch.manual_seed(0)"
   ]
  },
  {
   "cell_type": "code",
   "execution_count": 4,
   "id": "235de2d8-96fb-4cb5-908b-d731da91986c",
   "metadata": {},
   "outputs": [],
   "source": [
    "train_data = pl.read_csv(\n",
    "    train_data_filepath,\n",
    "    # n_rows = 1000,\n",
    ")\n",
    "\n",
    "test_data = pl.read_csv(\n",
    "    test_data_filepath,\n",
    "    # n_rows = 1000,\n",
    ")"
   ]
  },
  {
   "cell_type": "code",
   "execution_count": 5,
   "id": "c715a587-47b0-42b9-8812-d48d4c290cd2",
   "metadata": {},
   "outputs": [],
   "source": [
    "# Custom Dataset class\n",
    "class MnistFashionDataset(Dataset):\n",
    "    def __init__(self, features, targets):\n",
    "        self.features = features\n",
    "        self.targets = targets\n",
    "\n",
    "    def __len__(self):\n",
    "        return len(self.features)\n",
    "\n",
    "    def __getitem__(self, idx):\n",
    "        image = self.features[idx].reshape(28, 28).astype('float32')\n",
    "        label = self.targets[idx].astype('float32')\n",
    "        return torch.tensor(image), torch.tensor(label)"
   ]
  },
  {
   "cell_type": "code",
   "execution_count": 6,
   "id": "d929945d-b2b5-4009-9ddb-83519e142af1",
   "metadata": {},
   "outputs": [],
   "source": [
    "# Train Set\n",
    "\n",
    "train_feature_data = train_data.select(\n",
    "    pl.col(train_data.columns[1:])\n",
    ").with_columns(\n",
    "    pl.all()/255.0\n",
    ")\n",
    "\n",
    "\n",
    "train_target_data = train_data.select(\n",
    "    pl.col(train_data.columns[0])\n",
    ").cast(\n",
    "    pl.Int32\n",
    ").to_dummies()\n",
    "\n",
    "X = train_feature_data.to_numpy()\n",
    "y = train_target_data.to_numpy()\n",
    "\n",
    "X_train, X_val, y_train, y_val = train_test_split(\n",
    "    X,\n",
    "    y,\n",
    "    test_size= 1/8,\n",
    "    random_state= 42\n",
    ")\n",
    "\n",
    "\n",
    "# Test Set\n",
    "test_feature_data = test_data.select(\n",
    "    pl.col(test_data.columns[1:])\n",
    ").with_columns(\n",
    "    pl.all()/255.0\n",
    ")\n",
    "\n",
    "\n",
    "test_target_data = test_data.select(\n",
    "    pl.col(test_data.columns[0])\n",
    ").cast(\n",
    "    pl.Int32\n",
    ").to_dummies()\n",
    "\n",
    "X_test = test_feature_data.to_numpy()\n",
    "y_test = test_target_data.to_numpy()\n",
    "\n",
    "\n",
    "# Create Dataset objects\n",
    "train_dataset = MnistFashionDataset( X_train, y_train)\n",
    "test_dataset = MnistFashionDataset( X_test, y_test)\n",
    "val_dataset = MnistFashionDataset( X_val, y_val)\n"
   ]
  },
  {
   "cell_type": "code",
   "execution_count": 7,
   "id": "cdd0f0a1-2231-4ea0-9b01-82eada4ee9f6",
   "metadata": {},
   "outputs": [
    {
     "data": {
      "text/plain": [
       "7500"
      ]
     },
     "execution_count": 7,
     "metadata": {},
     "output_type": "execute_result"
    }
   ],
   "source": [
    "val_dataset.__len__()"
   ]
  },
  {
   "cell_type": "code",
   "execution_count": 8,
   "id": "7a144fde-73c5-4d22-bba8-300be9a38b77",
   "metadata": {},
   "outputs": [
    {
     "data": {
      "image/png": "[encoded data removed]",
      "text/plain": [
       "<Figure size 500x500 with 1 Axes>"
      ]
     },
     "metadata": {},
     "output_type": "display_data"
    }
   ],
   "source": [
    "test_image = train_feature_data[0].to_numpy().reshape(28, 28)\n",
    "\n",
    "fig, ax = plt.subplots(1, 1, figsize=(5, 5))\n",
    "\n",
    "ax.imshow(\n",
    "    test_image,\n",
    "    cmap='gray', \n",
    "    vmin=0, \n",
    "    vmax=1\n",
    ")\n",
    "\n",
    "plt.show()"
   ]
  },
  {
   "cell_type": "code",
   "execution_count": 9,
   "id": "a2879f0c-f58e-49fc-aace-4f93abace2be",
   "metadata": {},
   "outputs": [],
   "source": [
    "# Define the CNN model\n",
    "class SimpleCNN(nn.Module):\n",
    "    def __init__(self):\n",
    "        super(SimpleCNN, self).__init__()\n",
    "        self.conv1 = nn.Conv2d(in_channels=1, out_channels=32, kernel_size=3)\n",
    "        self.relu1 = nn.ReLU()\n",
    "        self.pool1 = nn.MaxPool2d(2, 2)\n",
    "        self.conv2 = nn.Conv2d(in_channels=32, out_channels=64, kernel_size=3)\n",
    "        self.relu2 = nn.ReLU()\n",
    "        self.pool2 = nn.MaxPool2d(2, 2)\n",
    "        self.fc1 = nn.Linear(64 * 5 * 5, 128)\n",
    "        self.relufc = nn.ReLU()\n",
    "        self.fc2 = nn.Linear(128, 10)\n",
    "        \n",
    "\n",
    "    def forward(self, x):\n",
    "        x = self.conv1(x)\n",
    "        x = self.relu1(x)\n",
    "        x = self.pool1(x)\n",
    "        x = self.conv2(x)\n",
    "        x = self.relu2(x)\n",
    "        x = self.pool2(x)\n",
    "        x = x.view(-1, 64 * 5 * 5)\n",
    "        x = self.fc1(x)\n",
    "        x = self.relufc(x)\n",
    "        x = self.fc2(x)\n",
    "        return x"
   ]
  },
  {
   "cell_type": "code",
   "execution_count": 10,
   "id": "fea58cfd-141b-4b11-a8df-fe0f469cb397",
   "metadata": {},
   "outputs": [],
   "source": [
    "device = 'cuda' if torch.cuda.is_available() else 'cpu'\n",
    "num_epochs = 10\n",
    "batch_size = 32\n",
    "learning_rate = 0.001\n",
    "model = SimpleCNN().to(device)\n",
    "criterion = nn.CrossEntropyLoss()\n",
    "optimizer = optim.Adam(model.parameters(), lr = learning_rate)"
   ]
  },
  {
   "cell_type": "code",
   "execution_count": 11,
   "id": "e30f1ddb-010c-4804-ad17-8af24039f6a2",
   "metadata": {},
   "outputs": [],
   "source": [
    "train_loader = DataLoader(\n",
    "    dataset=train_dataset, \n",
    "    batch_size=batch_size, \n",
    "    shuffle=True,\n",
    ")\n",
    "val_loader = DataLoader(\n",
    "    dataset=val_dataset, \n",
    "    batch_size=batch_size, \n",
    "    shuffle=False,\n",
    ")\n",
    "test_loader = DataLoader(\n",
    "    dataset=test_dataset, \n",
    "    batch_size=batch_size, \n",
    "    shuffle=False,\n",
    ")"
   ]
  },
  {
   "cell_type": "markdown",
   "id": "2bb232b2-d5b6-4dc5-abf1-a83b6f9c4c6a",
   "metadata": {},
   "source": [
    "### Baseline Model Accuracy and training Time"
   ]
  },
  {
   "cell_type": "code",
   "execution_count": 12,
   "id": "a6ee0131-fb37-4f43-8b05-0508734c270b",
   "metadata": {},
   "outputs": [
    {
     "name": "stdout",
     "output_type": "stream",
     "text": [
      "Epoch [1/10], Training Loss: 0.5110, Validation Loss: 0.3813\n",
      "Epoch [2/10], Training Loss: 0.3327, Validation Loss: 0.3053\n",
      "Epoch [3/10], Training Loss: 0.2828, Validation Loss: 0.2812\n",
      "Epoch [4/10], Training Loss: 0.2508, Validation Loss: 0.2608\n",
      "Epoch [5/10], Training Loss: 0.2254, Validation Loss: 0.2649\n",
      "Epoch [6/10], Training Loss: 0.2002, Validation Loss: 0.2431\n",
      "Epoch [7/10], Training Loss: 0.1795, Validation Loss: 0.2600\n",
      "Epoch [8/10], Training Loss: 0.1623, Validation Loss: 0.2630\n",
      "Epoch [9/10], Training Loss: 0.1489, Validation Loss: 0.2719\n",
      "Epoch [10/10], Training Loss: 0.1334, Validation Loss: 0.2730\n",
      " - Training for 10 epochs took 42.20 seconds.\n"
     ]
    }
   ],
   "source": [
    "model = SimpleCNN()\n",
    "model.to(device)\n",
    "criterion = nn.CrossEntropyLoss()\n",
    "optimizer = optim.Adam(model.parameters(), lr=learning_rate)\n",
    "\n",
    "start_time = time.time()\n",
    "\n",
    "training_history = []\n",
    "for epoch in range(num_epochs):\n",
    "    model.train()\n",
    "    running_training_loss = 0.0\n",
    "    for images, labels in train_loader:\n",
    "        images, labels = images.to(device).unsqueeze(1), labels.to(device)  # Add channel dimension\n",
    "        optimizer.zero_grad()\n",
    "        outputs = model(images)\n",
    "        loss = criterion(outputs, labels)\n",
    "        loss.backward()\n",
    "        optimizer.step()\n",
    "        running_training_loss += loss.item()\n",
    "\n",
    "    training_loss = running_training_loss / len(train_loader)\n",
    "    training_history.append({\n",
    "        'epoch': epoch+1,\n",
    "        'phase': 'Training',\n",
    "        'loss': training_loss\n",
    "    })\n",
    "    \n",
    "    # Validation step\n",
    "    model.eval()\n",
    "    running_val_loss = 0.0\n",
    "    with torch.no_grad():\n",
    "        for images, labels in val_loader:\n",
    "            images, labels = images.to(device).unsqueeze(1), labels.to(device)  # Add channel dimension\n",
    "            # optimizer.zero_grad()\n",
    "            outputs = model(images)\n",
    "            loss = criterion(outputs, labels)\n",
    "            # loss.backward()\n",
    "            running_val_loss += loss.item()\n",
    "            \n",
    "    validation_loss = running_val_loss / len(val_loader)\n",
    "    training_history.append({\n",
    "        'epoch': epoch+1,\n",
    "        'phase': 'Validation',\n",
    "        'loss': validation_loss\n",
    "    })\n",
    "\n",
    "    print(f\"Epoch [{epoch+1}/{num_epochs}], Training Loss: {training_loss:.4f}, Validation Loss: {validation_loss:.4f}\")\n",
    "\n",
    "end_time = time.time()\n",
    "elapsed_time = end_time - start_time\n",
    "print(f' - Training for {num_epochs} epochs took {elapsed_time:.2f} seconds.')"
   ]
  },
  {
   "cell_type": "markdown",
   "id": "51a24320-379a-4ec6-a1e1-f4417244cd1d",
   "metadata": {},
   "source": [
    "Loss should be going down\n",
    "validation loss: if when it get's to a point it starts to go up it is overfitting"
   ]
  },
  {
   "cell_type": "code",
   "execution_count": 13,
   "id": "bba889cc-89ee-47af-8b97-133e909a312d",
   "metadata": {},
   "outputs": [
    {
     "data": {
      "image/png": "[encoded data removed]",
      "text/plain": [
       "<Figure size 600x400 with 1 Axes>"
      ]
     },
     "metadata": {},
     "output_type": "display_data"
    }
   ],
   "source": [
    "training_history_df = pl.DataFrame(training_history)\n",
    "\n",
    "fig, ax = plt.subplots(1, 1, figsize=(6, 4))\n",
    "\n",
    "sns.lineplot(\n",
    "    training_history_df,\n",
    "    x='epoch',\n",
    "    y='loss',\n",
    "    hue='phase',\n",
    ")\n",
    "ax.set_xlabel('Epoch')\n",
    "ax.set_ylabel('Loss')\n",
    "ax.legend(title='Phase')\n",
    "ax.spines[['right', 'top']].set_visible(False)"
   ]
  },
  {
   "cell_type": "code",
   "execution_count": 14,
   "id": "e12133b2-a9be-46b7-9189-e4ba4e7461e4",
   "metadata": {},
   "outputs": [
    {
     "name": "stdout",
     "output_type": "stream",
     "text": [
      "Accuracy of the model on the test images: 91.25%\n"
     ]
    }
   ],
   "source": [
    "model.eval()\n",
    "correct = 0\n",
    "total = 0\n",
    "with torch.no_grad():\n",
    "    for images, labels in test_loader:\n",
    "        images = images.to(device).unsqueeze(1)  # Add channel dimension\n",
    "        labels = labels.to(device)\n",
    "        outputs = model(images)\n",
    "        _, predicted = torch.max(outputs.data, 1)\n",
    "        total += labels.size(0)\n",
    "        correct += (predicted == labels.argmax(axis=1)).sum().item()\n",
    "print(f\"Accuracy of the model on the test images: {100 * correct / total:.2f}%\")"
   ]
  },
  {
   "cell_type": "markdown",
   "id": "3acd9045-75da-4a30-a8aa-8af786a8c185",
   "metadata": {},
   "source": [
    "# Experiments & Hyperparameter Anbalysis"
   ]
  },
  {
   "cell_type": "markdown",
   "id": "f8dcf30b-21be-481b-8cf8-2ccbffcb41b5",
   "metadata": {},
   "source": [
    "### To Implement the experiment define training and evaluation as functions"
   ]
  },
  {
   "cell_type": "code",
   "execution_count": 15,
   "id": "538e8264-354d-4cae-8fd8-1382bfdebc72",
   "metadata": {},
   "outputs": [],
   "source": [
    "\n",
    "def train_validation(model, train_loader, val_loader, device):\n",
    "\n",
    "    start_time = time.time()\n",
    "    \n",
    "    training_history = []\n",
    "    for epoch in range(num_epochs):\n",
    "        model.train()\n",
    "        running_training_loss = 0.0\n",
    "        for images, labels in train_loader:\n",
    "            images, labels = images.to(device).unsqueeze(1), labels.to(device)  \n",
    "            optimizer.zero_grad()\n",
    "            outputs = model(images)\n",
    "            loss = criterion(outputs, labels)\n",
    "            loss.backward()\n",
    "            optimizer.step()\n",
    "            running_training_loss += loss.item()\n",
    "    \n",
    "        training_loss = running_training_loss / len(train_loader)\n",
    "        training_history.append({\n",
    "            'epoch': epoch+1,\n",
    "            'phase': 'Training',\n",
    "            'loss': training_loss\n",
    "        })\n",
    "        \n",
    "        # Validation step\n",
    "        model.eval()\n",
    "        running_val_loss = 0.0\n",
    "        with torch.no_grad():\n",
    "            for images, labels in val_loader:\n",
    "                images, labels = images.to(device).unsqueeze(1), labels.to(device)  \n",
    "                outputs = model(images)\n",
    "                loss = criterion(outputs, labels)\n",
    "                running_val_loss += loss.item()\n",
    "                \n",
    "        validation_loss = running_val_loss / len(val_loader)\n",
    "        training_history.append({\n",
    "            'epoch': epoch+1,\n",
    "            'phase': 'Validation',\n",
    "            'loss': validation_loss\n",
    "        })\n",
    "    \n",
    "    end_time = time.time()\n",
    "    elapsed_time = end_time - start_time\n",
    "    \n",
    "    return training_history, elapsed_time\n"
   ]
  },
  {
   "cell_type": "markdown",
   "id": "f0532627-9553-46c3-a8d3-bdf929bbec0d",
   "metadata": {},
   "source": [
    "### Define a Function for validation on Test"
   ]
  },
  {
   "cell_type": "code",
   "execution_count": 16,
   "id": "d9ccaf2e-1820-4a48-bd26-b921fe6bf272",
   "metadata": {},
   "outputs": [],
   "source": [
    "def evaluate_accuracy(model, test_loader, device): \n",
    "\n",
    "    model.eval()\n",
    "    correct = 0\n",
    "    total = 0\n",
    "    with torch.no_grad():\n",
    "        for images, labels in test_loader:\n",
    "            images, labels = images.to(device).unsqueeze(1), labels.to(device)  \n",
    "            outputs = model(images)\n",
    "            _, predicted = torch.max(outputs.data, 1)\n",
    "            total += labels.size(0)\n",
    "            correct += (predicted == labels.argmax(axis=1)).sum().item()\n",
    "    accuracy = 100 * correct / total\n",
    "    return accuracy"
   ]
  },
  {
   "cell_type": "markdown",
   "id": "181fb041-762b-47d0-b369-a52aa01dc937",
   "metadata": {},
   "source": [
    "### Make the Baseline Model Dynamic:\n",
    "By defining kernel_size and channel_size as parameters in the __init__ function, I allow the model’s convolutional filter size (kernel_size) and number of output channels (channel_size) to be specified dynamically. This flexibility is important for hyperparameter tuning, as it enables experimentation with different configurations to optimize model performance and training efficiency.\n",
    "\n",
    "Previously, the model’s convolutional layers had fixed values for kernel_size and out_channels. By updating conv1 and conv2 to use the parameters kernel_size and channel_size, I make these layers adaptable.  **The output channel of the layer Conv2 is always twice as the conv1 layer'  channel number.**\n",
    "\n",
    "#### Dynamic Calculation of Flattened Output Size for the Fully:\n",
    "With different configurations of kernel_size and channel_size, the output shape of the convolutional layers can vary. Thus, to determine the correct input size for the first fully connected layer (fc1), I dynamically compute the output size of the convolutional and pooling layers. This is done with the **calculate_conv_output_size function**, which calculates the flattened size after the convolution and pooling layers based on the specified input_size, kernel_size, and channel_size."
   ]
  },
  {
   "cell_type": "code",
   "execution_count": 17,
   "id": "d087828e-798c-4762-894f-7018c16ad3ca",
   "metadata": {},
   "outputs": [],
   "source": [
    "# Define the CNN model\n",
    "class SimpleCNN(nn.Module):\n",
    "    def __init__(self, input_size = 28, kernel_size=3, channel_size=32):\n",
    "        super(SimpleCNN, self).__init__()\n",
    "        self.kernel_size = kernel_size\n",
    "        self.channel_size = channel_size\n",
    "        self.conv1 = nn.Conv2d(in_channels=1, out_channels=channel_size, kernel_size=kernel_size)\n",
    "        self.relu1 = nn.ReLU()\n",
    "        self.pool1 = nn.MaxPool2d(2, 2)\n",
    "        self.conv2 = nn.Conv2d(in_channels=channel_size, out_channels=channel_size*2, kernel_size = kernel_size)\n",
    "        self.relu2 = nn.ReLU()\n",
    "        self.pool2 = nn.MaxPool2d(2, 2)\n",
    "        conv_output_size = self.calculate_conv_output_size(input_size)\n",
    "        self.fc1 = nn.Linear(conv_output_size, 128)\n",
    "        self.relufc = nn.ReLU()\n",
    "        self.fc2 = nn.Linear(128, 10)\n",
    "\n",
    "    def calculate_conv_output_size(self, input_size,  pool_kernel_size = 2, padding = 0, stride=1):\n",
    "\n",
    "        conv1_output_size = (input_size - self.kernel_size + 2 * padding) // stride + 1\n",
    "        pool1_output_size = (conv1_output_size - pool_kernel_size) // pool_kernel_size + 1\n",
    "        conv2_output_size = (pool1_output_size - self.kernel_size + 2 * padding) // stride  + 1\n",
    "        pool2_output_size = (conv2_output_size - pool_kernel_size) // pool_kernel_size + 1\n",
    "\n",
    "        return self.channel_size * 2 * pool2_output_size * pool2_output_size\n",
    "    \n",
    "        \n",
    "\n",
    "    def forward(self, x):\n",
    "        x = self.conv1(x)\n",
    "        x = self.relu1(x)\n",
    "        x = self.pool1(x)\n",
    "        x = self.conv2(x)\n",
    "        x = self.relu2(x)\n",
    "        x = self.pool2(x)\n",
    "        x = x.view(-1, self.fc1.in_features)\n",
    "        x = self.fc1(x)\n",
    "        x = self.relufc(x)\n",
    "        x = self.fc2(x)\n",
    "        return x"
   ]
  },
  {
   "cell_type": "markdown",
   "id": "ee9f26b8-a895-49de-956d-27a13d86ce88",
   "metadata": {},
   "source": [
    "## Experiment"
   ]
  },
  {
   "cell_type": "markdown",
   "id": "bb2d6f2f-2786-4af9-8c72-9cf6ca40cffb",
   "metadata": {},
   "source": [
    "A factoriel experiment of different sets of parameters is devised  to evaluate how different configurations of kernel_size, channel_size, and batch_size affect the model’s performance  and training efficiency . By systematically varying these hyperparameters and recording results for each configuration, the experiment provides insights into the optimal configuration for balancing model accuracy and computational efficiency."
   ]
  },
  {
   "cell_type": "code",
   "execution_count": 18,
   "id": "1f3437b8-3465-4e10-b1ee-53044b3689a9",
   "metadata": {},
   "outputs": [],
   "source": [
    "kernel_size_list = [3,5]\n",
    "channel_size_list = [16, 32, 64]\n",
    "batch_size_list = [32, 64, 128]\n",
    "\n",
    "experiment_product = itertools.product(\n",
    "    kernel_size_list,\n",
    "    channel_size_list,\n",
    "    batch_size_list,\n",
    ")\n",
    "\n",
    "experiment_product = list(experiment_product)\n",
    "\n",
    "\n",
    "experimant_instances = {}\n",
    "for product in experiment_product:\n",
    "    kernel_size, channel_size, batch_size = product\n",
    "    instance_string = f'{kernel_size}-{channel_size}-{batch_size}'\n",
    "    experimant_instances[instance_string] ={\n",
    "        'kernel_size' : kernel_size,\n",
    "        'channel_size' : channel_size,\n",
    "        'batch_size' : batch_size\n",
    "    }"
   ]
  },
  {
   "cell_type": "code",
   "execution_count": 19,
   "id": "4c0ad3dc-5244-4666-85ef-dd6224172e1d",
   "metadata": {},
   "outputs": [],
   "source": [
    "experiment_data_directory = pathlib.Path('experiment_data')\n",
    "experiment_data_directory.mkdir(exist_ok= True)\n",
    "    \n",
    "experiment_results_filepath = pathlib.Path(\n",
    "    experiment_data_directory,\n",
    "    'CNN_hyperparamether_experiment.json'\n",
    ")"
   ]
  },
  {
   "cell_type": "code",
   "execution_count": 20,
   "id": "0030fd5f-8fb4-41bd-a108-80b2d7f5aa57",
   "metadata": {},
   "outputs": [],
   "source": [
    "device = 'cuda' if torch.cuda.is_available() else 'cpu'\n",
    "num_epochs = 10\n",
    "learning_rate = 0.001\n",
    "model = SimpleCNN().to(device)\n",
    "criterion = nn.CrossEntropyLoss()\n",
    "optimizer = optim.Adam(model.parameters(), lr = learning_rate)"
   ]
  },
  {
   "cell_type": "markdown",
   "id": "a2d68ea5-ee10-47fa-9b22-42f1cf9d5f8b",
   "metadata": {},
   "source": [
    "This experiment systematically tests different configurations of a SimpleCNN model by varying kernel_size, channel_size, and batch_size. For each unique configuration:\n",
    "\n",
    "**Model Initialization:** A SimpleCNN model is initialized with specific kernel_size and channel_size values.\n",
    "\n",
    "**Data Loaders Setup:** train_loader, val_loader, and test_loader are created with the specified batch_size.\n",
    "\n",
    "**Training and Evaluation:** The model is trained and validated, recording both training history and time taken. The model’s accuracy is evaluated on the test set.\n",
    "\n",
    "**Results Storage:** The configuration results, including training_time, test_accuracy, and detailed training history, are stored in a JSON file. If results for a configuration already exist, it skips to the next."
   ]
  },
  {
   "cell_type": "code",
   "execution_count": 21,
   "id": "c7d5d2d7-8c60-4473-91a6-e877ce656c75",
   "metadata": {},
   "outputs": [
    {
     "data": {
      "application/vnd.jupyter.widget-view+json": {
       "model_id": "d84df9165ecd44e9bec8dee8f49522ff",
       "version_major": 2,
       "version_minor": 0
      },
      "text/plain": [
       "  0%|          | 0/18 [00:00<?, ?it/s]"
      ]
     },
     "metadata": {},
     "output_type": "display_data"
    },
    {
     "name": "stdout",
     "output_type": "stream",
     "text": [
      "Experiment Completed and results saved\n"
     ]
    }
   ],
   "source": [
    "if experiment_results_filepath.exists():\n",
    "    with open(experiment_results_filepath) as fin:\n",
    "        CNN_experiment_results = json.load(fin)\n",
    "else:\n",
    "    CNN_experiment_results = {}\n",
    "\n",
    "for instance in tqdm(experimant_instances):\n",
    "    if instance not in CNN_experiment_results:\n",
    "        kernel_size = experimant_instances.get(instance).get('kernel_size')\n",
    "        channel_size = experimant_instances.get(instance).get('channel_size')\n",
    "        batch_size = experimant_instances.get(instance).get('batch_size')\n",
    "\n",
    "        # Innitialize the model withthe loops kernel_size and channel_size:\n",
    "        model = SimpleCNN(\n",
    "            kernel_size = kernel_size, \n",
    "            channel_size = channel_size\n",
    "        )\n",
    "        model.to(device)\n",
    "        criterion = torch.nn.CrossEntropyLoss()\n",
    "        optimizer = optim.Adam(model.parameters(), lr = 0.001)\n",
    "    \n",
    "\n",
    "        # Set Up data loaders\n",
    "\n",
    "        train_loader = DataLoader(\n",
    "            dataset= train_dataset,\n",
    "            batch_size= batch_size,\n",
    "            shuffle= True\n",
    "        )\n",
    "        val_loader = DataLoader(\n",
    "            dataset= val_dataset,\n",
    "            batch_size= batch_size,\n",
    "            shuffle= False,\n",
    "        )\n",
    "        test_loader = DataLoader(\n",
    "            dataset= test_dataset,\n",
    "            batch_size= batch_size,\n",
    "            shuffle= False,\n",
    "        )\n",
    "\n",
    "\n",
    "        training_history, elapsed_time = train_validation(\n",
    "            model,\n",
    "            train_loader,\n",
    "            val_loader,\n",
    "            device\n",
    "        )\n",
    "        predictive_accuracy = evaluate_accuracy(\n",
    "            model,\n",
    "            test_loader,\n",
    "            device,\n",
    "        )\n",
    "        CNN_experiment_results[instance] = {\n",
    "            'kernel_size' : kernel_size,\n",
    "            'channel_size' : channel_size,\n",
    "            'batch_size' : batch_size,\n",
    "            'training_history' : training_history,\n",
    "            'training_time' : elapsed_time,\n",
    "            'test_accuracy' : predictive_accuracy,\n",
    "        }\n",
    "\n",
    "        with open(experiment_results_filepath, 'w') as fout:\n",
    "            json.dump(CNN_experiment_results, fout, indent=4)\n",
    "\n",
    "\n",
    "print(\"Experiment Completed and results saved\")"
   ]
  },
  {
   "cell_type": "markdown",
   "id": "1bf587a0-5a27-42b7-92ed-3792fca2a1be",
   "metadata": {},
   "source": [
    "## Plots"
   ]
  },
  {
   "cell_type": "code",
   "execution_count": 22,
   "id": "9dc06d1a-a20c-4eea-8b74-ae1e829810fb",
   "metadata": {},
   "outputs": [
    {
     "data": {
      "image/png": "[encoded data removed]",
      "text/plain": [
       "<Figure size 1200x600 with 3 Axes>"
      ]
     },
     "metadata": {},
     "output_type": "display_data"
    }
   ],
   "source": [
    "experiment_df = pd.DataFrame.from_dict(\n",
    "    CNN_experiment_results,\n",
    "    orient='index',\n",
    ")\n",
    "\n",
    "mosaic = [\n",
    "    ['kernel_size', 'channel_size', 'batch_size'],\n",
    "    ]\n",
    "\n",
    "fig, ax = plt.subplot_mosaic(mosaic, figsize=(12, 6), sharey=True)\n",
    "\n",
    "for config in np.array(mosaic).flatten():\n",
    "    if config != '.':\n",
    "\n",
    "        sns.pointplot(\n",
    "            data=experiment_df,\n",
    "            x=config,\n",
    "            y='test_accuracy',\n",
    "            ax=ax[config],\n",
    "        )\n",
    "        ax[config].spines[['right', 'top']].set_visible(False)\n",
    "        ax[config].set_xlabel(\n",
    "            ax[config].get_xlabel().replace('_', ' ').title()\n",
    "        )\n",
    "        ax[config].set_ylabel(\n",
    "            ax[config].get_ylabel().replace('_', ' ').title()\n",
    "        )\n",
    "    \n",
    "\n",
    "plt.subplots_adjust(hspace=0.4)\n",
    "plt.show()"
   ]
  },
  {
   "cell_type": "markdown",
   "id": "3ec39370-cca9-4317-a4fe-059aa9f3a66a",
   "metadata": {},
   "source": [
    "### Analysis of hyperparameter variation on the Model Predictive Performance_ **Predicitive Accuracy: **\n",
    "\n",
    "Based on the plots for test_accuracy across different hyperparameter settings of kernel_size, channel_size, and batch_size, we can observe distinct trends and their potential impact on model performance:\n",
    "\n",
    "**Kernel Size:**\n",
    "\n",
    "kernel_size (between values of 3 and 5) have minimal impact on test_accuracy. The accuracy remains roughly consistent, hovering around 91%, with a slight variance represented by the error bars. \n",
    "\n",
    "**Channel Size:**\n",
    "\n",
    "As channel_size grows from 16 to 64, there is a noticeable improvement in test_accuracy, reaching around 92% at the highest tested value of 64. This trend suggests that increasing the number of channels may enhance the model's capacity to learn more complex features, which in turn could improve predictive performance.\n",
    "\n",
    "**Batch Size:**\n",
    "\n",
    "Higher batch_size values, especially at 128, correspond with a decrease in accuracy. The accuracy drops from approximately 91.75% at a batch size of 64 to around 90.75% at 128. This decline might be due to a reduced gradient update frequency with larger batch sizes, which can sometimes prevent the model from converging optimally."
   ]
  },
  {
   "cell_type": "code",
   "execution_count": 23,
   "id": "94ef86ca-519e-475c-a3d4-b4134d8d9711",
   "metadata": {},
   "outputs": [
    {
     "data": {
      "image/png": "[encoded data removed]",
      "text/plain": [
       "<Figure size 1200x600 with 3 Axes>"
      ]
     },
     "metadata": {},
     "output_type": "display_data"
    }
   ],
   "source": [
    "experiment_df = pd.DataFrame.from_dict(\n",
    "    CNN_experiment_results,\n",
    "    orient='index',\n",
    ")\n",
    "\n",
    "mosaic = [\n",
    "    ['kernel_size', 'channel_size', 'batch_size'],\n",
    "    ]\n",
    "\n",
    "fig, ax = plt.subplot_mosaic(mosaic, figsize=(12, 6), sharey=True)\n",
    "\n",
    "for config in np.array(mosaic).flatten():\n",
    "    if config != '.':\n",
    "\n",
    "        sns.pointplot(\n",
    "            data=experiment_df,\n",
    "            x=config,\n",
    "            y='training_time',\n",
    "            ax=ax[config],\n",
    "        )\n",
    "        ax[config].spines[['right', 'top']].set_visible(False)\n",
    "        ax[config].set_xlabel(\n",
    "            ax[config].get_xlabel().replace('_', ' ').title()\n",
    "        )\n",
    "        ax[config].set_ylabel(\n",
    "            ax[config].get_ylabel().replace('_', ' ').title()\n",
    "        )\n",
    "    \n",
    "\n",
    "plt.subplots_adjust(hspace=0.4)\n",
    "plt.show()"
   ]
  },
  {
   "cell_type": "markdown",
   "id": "d4c16b91-070f-4457-b080-b20e2e4670c3",
   "metadata": {
    "jp-MarkdownHeadingCollapsed": true
   },
   "source": [
    "### Analysis of hyperparameter variation on the Model Predictive Performance_ **Training Time: **\n",
    "\n",
    "\n",
    "In analyzing the training_time across different hyperparameter settings of kernel_size, channel_size, and batch_size, several patterns emerge:\n",
    "\n",
    "**Kernel Size:**\n",
    "\n",
    "The training time seems to be somewhat consistent between the kernel sizes, with a slight dip at the kernel size of 3. However, there's considerable variation, as shown by the error bars, which suggests that factors other than kernel size might be influencing the training time. The training time increases slightly for kernel size 5, which may indicate that larger kernels take longer to compute.\n",
    "\n",
    "**Channel Size:** \n",
    "\n",
    "The training time appears quite stable across different channel sizes, with no significant trend observed. Similar to kernel size, the error bars here are relatively wide, which implies variability in the results or other factors affecting the training time. The stability in training time across different channel sizes might suggest that channel size does not have a major impact on training duration in this particular model setup.\n",
    "\n",
    "**Batch Size** :\n",
    "\n",
    "A larger batch size, particularly 128, results in a notably faster training time. This trend is consistent with the fact that larger batch sizes lead to fewer iterations per epoch, thus reducing overall training time. However, as seen in the previous accuracy analysis, larger batch sizes may negatively impact model accuracy, so there’s a trade-off between efficiency and performance."
   ]
  }
 ],
 "metadata": {
  "kernelspec": {
   "display_name": "Python 3 (ipykernel)",
   "language": "python",
   "name": "python3"
  },
  "language_info": {
   "codemirror_mode": {
    "name": "ipython",
    "version": 3
   },
   "file_extension": ".py",
   "mimetype": "text/x-python",
   "name": "python",
   "nbconvert_exporter": "python",
   "pygments_lexer": "ipython3",
   "version": "3.12.4"
  }
 },
 "nbformat": 4,
 "nbformat_minor": 5
}
